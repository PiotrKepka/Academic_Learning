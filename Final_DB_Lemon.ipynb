{
 "cells": [
  {
   "cell_type": "code",
   "execution_count": 1,
   "id": "c5c58ccb",
   "metadata": {},
   "outputs": [
    {
     "name": "stdout",
     "output_type": "stream",
     "text": [
      "Requirement already satisfied: mysql-connector-python in c:\\users\\admin\\appdata\\roaming\\python\\python39\\site-packages (8.0.33)\n",
      "Requirement already satisfied: protobuf<=3.20.3,>=3.11.0 in c:\\users\\admin\\appdata\\roaming\\python\\python39\\site-packages (from mysql-connector-python) (3.20.3)\n",
      "Note: you may need to restart the kernel to use updated packages.\n"
     ]
    }
   ],
   "source": [
    "%pip install mysql-connector-python"
   ]
  },
  {
   "cell_type": "code",
   "execution_count": 2,
   "id": "23c54134",
   "metadata": {},
   "outputs": [],
   "source": [
    "import mysql.connector"
   ]
  },
  {
   "cell_type": "code",
   "execution_count": 3,
   "id": "9a2c1fcd",
   "metadata": {},
   "outputs": [],
   "source": [
    "# Task 1\n",
    "mydb=mysql.connector.connect(user=\"FinalAdmin\", password=\"1234!@#$mylongpass\")"
   ]
  },
  {
   "cell_type": "code",
   "execution_count": 4,
   "id": "eaa2137d",
   "metadata": {},
   "outputs": [],
   "source": [
    "mycursor=mydb.cursor()"
   ]
  },
  {
   "cell_type": "code",
   "execution_count": 5,
   "id": "8ab67f80",
   "metadata": {},
   "outputs": [
    {
     "name": "stdout",
     "output_type": "stream",
     "text": [
      "('final_db_lemon',)\n",
      "('global_customer_erp',)\n",
      "('information_schema',)\n",
      "('little_lemon_db',)\n",
      "('magnata_gallo',)\n",
      "('mg_schema',)\n",
      "('mysql',)\n",
      "('performance_schema',)\n",
      "('sys',)\n"
     ]
    }
   ],
   "source": [
    "mycursor.execute(\"SHOW DATABASES\")\n",
    "for database in mycursor:\n",
    "    print(database)"
   ]
  },
  {
   "cell_type": "code",
   "execution_count": 6,
   "id": "37de5b9d",
   "metadata": {},
   "outputs": [],
   "source": [
    "mycursor.execute(\"USE final_db_lemon\")"
   ]
  },
  {
   "cell_type": "code",
   "execution_count": 7,
   "id": "60df1371",
   "metadata": {},
   "outputs": [
    {
     "data": {
      "text/plain": [
       "'final_db_lemon'"
      ]
     },
     "execution_count": 7,
     "metadata": {},
     "output_type": "execute_result"
    }
   ],
   "source": [
    "mydb.database"
   ]
  },
  {
   "cell_type": "code",
   "execution_count": 8,
   "id": "fbd883aa",
   "metadata": {},
   "outputs": [],
   "source": [
    "# Task 2\n",
    "mycursor.execute(\"SHOW TABLES;\")"
   ]
  },
  {
   "cell_type": "code",
   "execution_count": 9,
   "id": "2bcea201",
   "metadata": {},
   "outputs": [],
   "source": [
    "myresult = mycursor.fetchall()"
   ]
  },
  {
   "cell_type": "code",
   "execution_count": 10,
   "id": "4377b959",
   "metadata": {},
   "outputs": [
    {
     "name": "stdout",
     "output_type": "stream",
     "text": [
      "('bookings',)\n",
      "('bookings_2',)\n",
      "('customer_details',)\n",
      "('delivery_status',)\n",
      "('menus',)\n",
      "('orders',)\n",
      "('ordersview',)\n",
      "('staff_information',)\n"
     ]
    }
   ],
   "source": [
    "for x in myresult:\n",
    "    print(x)"
   ]
  },
  {
   "cell_type": "code",
   "execution_count": 11,
   "id": "65b6f7ba",
   "metadata": {},
   "outputs": [],
   "source": [
    "# Task 3\n",
    "# Example to check extractions\n",
    "# mycursor.execute(\"SELECT * FROM customer_details\")\n",
    "# res=mycursor.fetchall()\n",
    "# for x in res:\n",
    "#    print(x)"
   ]
  },
  {
   "cell_type": "code",
   "execution_count": 13,
   "id": "ab8c8f98",
   "metadata": {},
   "outputs": [],
   "source": [
    "joins=\"\"\"SELECT cd.Customer_ID, cd.Full_Name, o.Total_Cost \n",
    "FROM customer_details cd\n",
    "LEFT JOIN orders o\n",
    "ON o.Customer_Details_Customer_ID=cd.Customer_ID\n",
    "WHERE o.Total_Cost > 60\n",
    "ORDER BY o.Total_Cost DESC;\"\"\"\n",
    "mycursor.execute(joins)"
   ]
  },
  {
   "cell_type": "code",
   "execution_count": 14,
   "id": "2c1af2d9",
   "metadata": {},
   "outputs": [],
   "source": [
    "all_data=mycursor.fetchall()"
   ]
  },
  {
   "cell_type": "code",
   "execution_count": 15,
   "id": "cee254fd",
   "metadata": {},
   "outputs": [
    {
     "name": "stdout",
     "output_type": "stream",
     "text": [
      "(3, 'Shakira Moybus', Decimal('900'))\n",
      "(2, 'Ms Quick', Decimal('660'))\n",
      "(4, 'Luis Chavarlier', Decimal('410'))\n",
      "(1, 'Peter Pan', Decimal('180'))\n",
      "(5, 'Jurgen Schmidt', Decimal('130'))\n"
     ]
    }
   ],
   "source": [
    "for x in all_data:\n",
    "    print(x)"
   ]
  },
  {
   "cell_type": "code",
   "execution_count": null,
   "id": "629adf5e",
   "metadata": {},
   "outputs": [],
   "source": []
  }
 ],
 "metadata": {
  "kernelspec": {
   "display_name": "Python 3 (ipykernel)",
   "language": "python",
   "name": "python3"
  },
  "language_info": {
   "codemirror_mode": {
    "name": "ipython",
    "version": 3
   },
   "file_extension": ".py",
   "mimetype": "text/x-python",
   "name": "python",
   "nbconvert_exporter": "python",
   "pygments_lexer": "ipython3",
   "version": "3.9.7"
  }
 },
 "nbformat": 4,
 "nbformat_minor": 5
}
